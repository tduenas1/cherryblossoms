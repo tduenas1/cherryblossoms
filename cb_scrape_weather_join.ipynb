{
  "nbformat": 4,
  "nbformat_minor": 0,
  "metadata": {
    "colab": {
      "provenance": [],
      "authorship_tag": "ABX9TyMxHucMxnzZLPW7HEH7WNT7",
      "include_colab_link": true
    },
    "kernelspec": {
      "name": "python3",
      "display_name": "Python 3"
    },
    "language_info": {
      "name": "python"
    }
  },
  "cells": [
    {
      "cell_type": "markdown",
      "metadata": {
        "id": "view-in-github",
        "colab_type": "text"
      },
      "source": [
        "<a href=\"https://colab.research.google.com/github/tduenas1/cherryblossoms/blob/main/cb_scrape_weather_join.ipynb\" target=\"_parent\"><img src=\"https://colab.research.google.com/assets/colab-badge.svg\" alt=\"Open In Colab\"/></a>"
      ]
    },
    {
      "cell_type": "code",
      "source": [
        "import pandas as pd\n",
        "import numpy as np\n",
        "import io\n",
        "from google.colab import files\n",
        "from sklearn.linear_model import LinearRegression\n",
        "import matplotlib.pyplot as plt\n",
        "import requests\n",
        "from bs4 import BeautifulSoup\n",
        "import time\n"
      ],
      "metadata": {
        "id": "cnrXuttoEhHk"
      },
      "execution_count": null,
      "outputs": []
    },
    {
      "cell_type": "markdown",
      "source": [
        "Scrape function for the cherry blossom data using beatiful soup"
      ],
      "metadata": {
        "id": "yhvaA17CrREx"
      }
    },
    {
      "cell_type": "code",
      "source": [
        "def scrape_cb(section, division, start_year, end_year):\n",
        "    base_url = \"https://www.cballtimeresults.org/performances?division=Overall+Men&section=10M&sex=M&utf8=%E2%9C%93\"\n",
        "    scrape_data = []\n",
        "    for year in range(start_year, end_year + 1):\n",
        "        page = 1\n",
        "        while True:\n",
        "            #from the base url, this parameters are modified in each loop or function call\n",
        "            url = f\"{base_url}&section={section}&division={division}&year={year}&page={page}\"\n",
        "\n",
        "            try:\n",
        "                # request data from url\n",
        "                response = requests.get(url)\n",
        "                response.raise_for_status()\n",
        "\n",
        "                soup = BeautifulSoup(response.text, 'html.parser')\n",
        "\n",
        "                # extract all table rows\n",
        "                table = soup.find('table')\n",
        "                rows = table.find_all('tr')\n",
        "\n",
        "                # break if there is no data to add (checking for 404 did not work)\n",
        "                if len(rows) <= 1:\n",
        "                    break\n",
        "\n",
        "                for row in rows:\n",
        "                    # Extract data from each row and process it as needed\n",
        "                    cells = row.find_all('td')\n",
        "                    row_data = [cell.get_text().replace('\\n', '') for cell in cells]\n",
        "                    # Prevent adding empty rows\n",
        "                    if any(cell for cell in row_data[1:]):\n",
        "                        scrape_data.append(row_data)\n",
        "\n",
        "            except requests.exceptions.RequestException as e:\n",
        "                print(f\"Error: {e}\")\n",
        "                break\n",
        "\n",
        "            # Move to the next page\n",
        "            page += 1\n",
        "        # log scraping status\n",
        "        print(section, \" \", division, \" \", year, \" scrape complete\")\n",
        "\n",
        "        df_temp = pd.DataFrame(scrape_data)\n",
        "\n",
        "    return df_temp\n",
        "\n"
      ],
      "metadata": {
        "id": "4wTigfT-rBqB"
      },
      "execution_count": null,
      "outputs": []
    },
    {
      "cell_type": "markdown",
      "source": [
        "# Do Not Run\n",
        "main calling of scrape functions for each division and race length\n",
        "(this took 97 minutes to run)"
      ],
      "metadata": {
        "id": "JwOZSU15vfyV"
      }
    },
    {
      "cell_type": "code",
      "source": [
        "\n",
        "# track scrape time\n",
        "start_time = time.time()\n",
        "\n",
        "section = \"10M\"\n",
        "division = \"Overall+Men\"\n",
        "start_year = 1973\n",
        "end_year = 2020\n",
        "\n",
        "df1 = scrape_cb(section, division, start_year, end_year)\n",
        "\n",
        "# 5k race started 2006\n",
        "section = \"5K\"\n",
        "division = \"Overall+Men\"\n",
        "start_year = 2006\n",
        "end_year = 2020\n",
        "\n",
        "df2 = scrape_cb(section, division, start_year, end_year)\n",
        "\n",
        "section = \"10M\"\n",
        "division = \"Overall+Women\"\n",
        "start_year = 1973\n",
        "end_year = 2020\n",
        "\n",
        "df3 = scrape_cb(section, division, start_year, end_year)\n",
        "\n",
        "section = \"5K\"\n",
        "division = \"Overall+Women\"\n",
        "start_year = 2006\n",
        "end_year = 2020\n",
        "\n",
        "df4 = scrape_cb(section, division, start_year, end_year)\n",
        "\n",
        "# evaluate scrape time\n",
        "end_time = time.time()\n",
        "run_time = end_time - start_time\n",
        "print(\"runtime:\", run_time, \"s\", \" \", run_time / 60, \"m\")\n",
        "\n",
        "\n"
      ],
      "metadata": {
        "id": "29fiTmESvWsL"
      },
      "execution_count": null,
      "outputs": []
    },
    {
      "cell_type": "markdown",
      "source": [
        "combine all dfs into one file"
      ],
      "metadata": {
        "id": "0hamRIm5xJLF"
      }
    },
    {
      "cell_type": "code",
      "source": [
        "# join df's together vertically\n",
        "cb_master_df = pd.concat([df1, df2, df3, df4], ignore_index=True)\n",
        "\n",
        "new_column_headers = ['Year', 'Name', 'Age', 'Time', 'Pace', 'PiS/TiS', 'Division', 'PiD/TiD', 'Hometown']\n",
        "cb_master_df.columns = new_column_headers"
      ],
      "metadata": {
        "id": "OVcwqVbBvdYp"
      },
      "execution_count": null,
      "outputs": []
    },
    {
      "cell_type": "markdown",
      "source": [
        "split the PiS/TiS and PiD/Tid cols. Those columns are not useful as a fraction, but we might want to know how many participants were in each division or sex and what position they came in."
      ],
      "metadata": {
        "id": "GEz6mFk-RkSs"
      }
    },
    {
      "cell_type": "code",
      "source": [
        "# splitting columns\n",
        "cb_master_df[['Year','Distance']] = cb_master_df['Year'].str.split(' ', expand=True)\n",
        "cb_master_df[['pos_by_sex','total_by_sex']] = cb_master_df['PiS/TiS'].str.split('/', expand=True)\n",
        "cb_master_df[['pos_by_division','total_by_division']] = cb_master_df['PiD/TiD'].str.split('/', expand=True)\n",
        "\n",
        "# extract sex from (M) into new column with one character (i have absolutely no idea why it looks like that)\n",
        "cb_master_df['Sex'] = cb_master_df['Name'].str.extract(r'\\(([^)]+)\\)')\n",
        "\n",
        "#remove 4 string characters for (M) in name\n",
        "cb_master_df['Name'] = cb_master_df['Name'].str[:-4]\n",
        "\n",
        "# delete unnecessary cols\n",
        "cb_master_df = cb_master_df.drop('PiS/TiS', axis=1)\n",
        "cb_master_df = cb_master_df.drop('PiD/TiD', axis=1)\n",
        "\n"
      ],
      "metadata": {
        "id": "9cQ1WDtnRftY"
      },
      "execution_count": null,
      "outputs": []
    },
    {
      "cell_type": "markdown",
      "source": [
        "df to csv and download file"
      ],
      "metadata": {
        "id": "A-RRnB_URotf"
      }
    },
    {
      "cell_type": "code",
      "source": [
        "cb_master_df.to_csv(\"cb_master.csv\", index=False)\n",
        "files.download(\"cb_master.csv\")"
      ],
      "metadata": {
        "id": "Y4AN3AigRnSy"
      },
      "execution_count": null,
      "outputs": []
    },
    {
      "cell_type": "markdown",
      "source": [
        "# Run code blocks starting here\n",
        "\n",
        "I am reuploading the csv file here so that I don't have to run the scraping calls every time I want to use the data"
      ],
      "metadata": {
        "id": "v4s-LELPx6Zp"
      }
    },
    {
      "cell_type": "code",
      "execution_count": null,
      "metadata": {
        "colab": {
          "base_uri": "https://localhost:8080/",
          "height": 73
        },
        "id": "wyDPvglg4mfK",
        "outputId": "3ab79123-0410-4469-95a1-31faba2e2e3e"
      },
      "outputs": [
        {
          "output_type": "display_data",
          "data": {
            "text/plain": [
              "<IPython.core.display.HTML object>"
            ],
            "text/html": [
              "\n",
              "     <input type=\"file\" id=\"files-5f56b47d-502c-46ba-b1cd-ad2dd36a529c\" name=\"files[]\" multiple disabled\n",
              "        style=\"border:none\" />\n",
              "     <output id=\"result-5f56b47d-502c-46ba-b1cd-ad2dd36a529c\">\n",
              "      Upload widget is only available when the cell has been executed in the\n",
              "      current browser session. Please rerun this cell to enable.\n",
              "      </output>\n",
              "      <script>// Copyright 2017 Google LLC\n",
              "//\n",
              "// Licensed under the Apache License, Version 2.0 (the \"License\");\n",
              "// you may not use this file except in compliance with the License.\n",
              "// You may obtain a copy of the License at\n",
              "//\n",
              "//      http://www.apache.org/licenses/LICENSE-2.0\n",
              "//\n",
              "// Unless required by applicable law or agreed to in writing, software\n",
              "// distributed under the License is distributed on an \"AS IS\" BASIS,\n",
              "// WITHOUT WARRANTIES OR CONDITIONS OF ANY KIND, either express or implied.\n",
              "// See the License for the specific language governing permissions and\n",
              "// limitations under the License.\n",
              "\n",
              "/**\n",
              " * @fileoverview Helpers for google.colab Python module.\n",
              " */\n",
              "(function(scope) {\n",
              "function span(text, styleAttributes = {}) {\n",
              "  const element = document.createElement('span');\n",
              "  element.textContent = text;\n",
              "  for (const key of Object.keys(styleAttributes)) {\n",
              "    element.style[key] = styleAttributes[key];\n",
              "  }\n",
              "  return element;\n",
              "}\n",
              "\n",
              "// Max number of bytes which will be uploaded at a time.\n",
              "const MAX_PAYLOAD_SIZE = 100 * 1024;\n",
              "\n",
              "function _uploadFiles(inputId, outputId) {\n",
              "  const steps = uploadFilesStep(inputId, outputId);\n",
              "  const outputElement = document.getElementById(outputId);\n",
              "  // Cache steps on the outputElement to make it available for the next call\n",
              "  // to uploadFilesContinue from Python.\n",
              "  outputElement.steps = steps;\n",
              "\n",
              "  return _uploadFilesContinue(outputId);\n",
              "}\n",
              "\n",
              "// This is roughly an async generator (not supported in the browser yet),\n",
              "// where there are multiple asynchronous steps and the Python side is going\n",
              "// to poll for completion of each step.\n",
              "// This uses a Promise to block the python side on completion of each step,\n",
              "// then passes the result of the previous step as the input to the next step.\n",
              "function _uploadFilesContinue(outputId) {\n",
              "  const outputElement = document.getElementById(outputId);\n",
              "  const steps = outputElement.steps;\n",
              "\n",
              "  const next = steps.next(outputElement.lastPromiseValue);\n",
              "  return Promise.resolve(next.value.promise).then((value) => {\n",
              "    // Cache the last promise value to make it available to the next\n",
              "    // step of the generator.\n",
              "    outputElement.lastPromiseValue = value;\n",
              "    return next.value.response;\n",
              "  });\n",
              "}\n",
              "\n",
              "/**\n",
              " * Generator function which is called between each async step of the upload\n",
              " * process.\n",
              " * @param {string} inputId Element ID of the input file picker element.\n",
              " * @param {string} outputId Element ID of the output display.\n",
              " * @return {!Iterable<!Object>} Iterable of next steps.\n",
              " */\n",
              "function* uploadFilesStep(inputId, outputId) {\n",
              "  const inputElement = document.getElementById(inputId);\n",
              "  inputElement.disabled = false;\n",
              "\n",
              "  const outputElement = document.getElementById(outputId);\n",
              "  outputElement.innerHTML = '';\n",
              "\n",
              "  const pickedPromise = new Promise((resolve) => {\n",
              "    inputElement.addEventListener('change', (e) => {\n",
              "      resolve(e.target.files);\n",
              "    });\n",
              "  });\n",
              "\n",
              "  const cancel = document.createElement('button');\n",
              "  inputElement.parentElement.appendChild(cancel);\n",
              "  cancel.textContent = 'Cancel upload';\n",
              "  const cancelPromise = new Promise((resolve) => {\n",
              "    cancel.onclick = () => {\n",
              "      resolve(null);\n",
              "    };\n",
              "  });\n",
              "\n",
              "  // Wait for the user to pick the files.\n",
              "  const files = yield {\n",
              "    promise: Promise.race([pickedPromise, cancelPromise]),\n",
              "    response: {\n",
              "      action: 'starting',\n",
              "    }\n",
              "  };\n",
              "\n",
              "  cancel.remove();\n",
              "\n",
              "  // Disable the input element since further picks are not allowed.\n",
              "  inputElement.disabled = true;\n",
              "\n",
              "  if (!files) {\n",
              "    return {\n",
              "      response: {\n",
              "        action: 'complete',\n",
              "      }\n",
              "    };\n",
              "  }\n",
              "\n",
              "  for (const file of files) {\n",
              "    const li = document.createElement('li');\n",
              "    li.append(span(file.name, {fontWeight: 'bold'}));\n",
              "    li.append(span(\n",
              "        `(${file.type || 'n/a'}) - ${file.size} bytes, ` +\n",
              "        `last modified: ${\n",
              "            file.lastModifiedDate ? file.lastModifiedDate.toLocaleDateString() :\n",
              "                                    'n/a'} - `));\n",
              "    const percent = span('0% done');\n",
              "    li.appendChild(percent);\n",
              "\n",
              "    outputElement.appendChild(li);\n",
              "\n",
              "    const fileDataPromise = new Promise((resolve) => {\n",
              "      const reader = new FileReader();\n",
              "      reader.onload = (e) => {\n",
              "        resolve(e.target.result);\n",
              "      };\n",
              "      reader.readAsArrayBuffer(file);\n",
              "    });\n",
              "    // Wait for the data to be ready.\n",
              "    let fileData = yield {\n",
              "      promise: fileDataPromise,\n",
              "      response: {\n",
              "        action: 'continue',\n",
              "      }\n",
              "    };\n",
              "\n",
              "    // Use a chunked sending to avoid message size limits. See b/62115660.\n",
              "    let position = 0;\n",
              "    do {\n",
              "      const length = Math.min(fileData.byteLength - position, MAX_PAYLOAD_SIZE);\n",
              "      const chunk = new Uint8Array(fileData, position, length);\n",
              "      position += length;\n",
              "\n",
              "      const base64 = btoa(String.fromCharCode.apply(null, chunk));\n",
              "      yield {\n",
              "        response: {\n",
              "          action: 'append',\n",
              "          file: file.name,\n",
              "          data: base64,\n",
              "        },\n",
              "      };\n",
              "\n",
              "      let percentDone = fileData.byteLength === 0 ?\n",
              "          100 :\n",
              "          Math.round((position / fileData.byteLength) * 100);\n",
              "      percent.textContent = `${percentDone}% done`;\n",
              "\n",
              "    } while (position < fileData.byteLength);\n",
              "  }\n",
              "\n",
              "  // All done.\n",
              "  yield {\n",
              "    response: {\n",
              "      action: 'complete',\n",
              "    }\n",
              "  };\n",
              "}\n",
              "\n",
              "scope.google = scope.google || {};\n",
              "scope.google.colab = scope.google.colab || {};\n",
              "scope.google.colab._files = {\n",
              "  _uploadFiles,\n",
              "  _uploadFilesContinue,\n",
              "};\n",
              "})(self);\n",
              "</script> "
            ]
          },
          "metadata": {}
        },
        {
          "output_type": "stream",
          "name": "stdout",
          "text": [
            "Saving cb_master.csv to cb_master.csv\n"
          ]
        }
      ],
      "source": [
        "# upload CSV from local hard drive (original sheet that I shared)\n",
        "upload = files.upload()\n",
        "df = pd.read_csv(io.StringIO(list(upload.values())[0].decode('utf-8')), low_memory=False)"
      ]
    },
    {
      "cell_type": "code",
      "source": [
        "# split by distance to join different weather dates\n",
        "df_10M = df[df['Distance'] == '10M']\n",
        "df_5K = df[df['Distance'] == '5K']"
      ],
      "metadata": {
        "id": "1ZlurVio_Ltu"
      },
      "execution_count": null,
      "outputs": []
    },
    {
      "cell_type": "code",
      "source": [
        "result = df_5K[(df_5K['Sex'] == 'M') & (df_5K['Year'] == 2013)]\n",
        "\n",
        "print(result.head(5))"
      ],
      "metadata": {
        "colab": {
          "base_uri": "https://localhost:8080/"
        },
        "id": "fvEZfjrN-vil",
        "outputId": "83cc06d0-858e-4701-e794-f7e6a4de9e81"
      },
      "execution_count": null,
      "outputs": [
        {
          "output_type": "stream",
          "name": "stdout",
          "text": [
            "        Year             Name Age     Time  Pace Division         Hometown  \\\n",
            "181605  2013     Nathan Davis  12  0:17:22  5:36    M0119    Frederick, MD   \n",
            "181606  2013   Thomas Johnson  27  0:17:27  5:38    M2529    Arlington, VA   \n",
            "181607  2013  Ariel Laguilles  34  0:17:55  5:47    M3034   Washington, DC   \n",
            "181608  2013    Nahom Teshome  15  0:18:11  5:52    M0119  Springfield, VA   \n",
            "181609  2013   Paul Vasilescu  29  0:18:17  5:54    M2529   Washington, DC   \n",
            "\n",
            "       Distance pos_by_sex  total_by_sex pos_by_division  total_by_division  \\\n",
            "181605       5K          1         547.0               1               35.0   \n",
            "181606       5K          2         547.0               1               87.0   \n",
            "181607       5K          3         547.0               1              110.0   \n",
            "181608       5K          4         547.0               2               35.0   \n",
            "181609       5K          5         547.0               2               87.0   \n",
            "\n",
            "       Sex  \n",
            "181605   M  \n",
            "181606   M  \n",
            "181607   M  \n",
            "181608   M  \n",
            "181609   M  \n"
          ]
        }
      ]
    },
    {
      "cell_type": "markdown",
      "source": [
        "The hometown data has many inconsistances. Stephen Sambu has won the event several times in recent years and lists \"   , Kenya\" , \"Oakland, CA\" and \"Oakland, Kenya\" as various entries for that column. It appears that many international competitors have inconsitent city and countries listed. As is consistent with top olympic distance runners many of the top competitors are from Kenya, Uganda, and Ethiopa."
      ],
      "metadata": {
        "id": "j5qawlmq4X6C"
      }
    },
    {
      "cell_type": "markdown",
      "source": [
        "# Weather data\n",
        "\n",
        "These are the race dates for every year from the \"Rite of Spring\" pdf. Verified all dates for the 10M. The 5K is assumed to always be held the day before."
      ],
      "metadata": {
        "id": "QDWnriLl6yI6"
      }
    },
    {
      "cell_type": "code",
      "source": [
        "race_date = ['1973-04-01', '1974-03-31', '1975-04-06', '1976-04-04',\n",
        "             '1977-04-03', '1978-04-02', '1979-04-01', '1980-03-30',\n",
        "             '1981-04-05', '1982-04-04', '1983-03-27', '1984-04-01',\n",
        "             '1985-03-31', '1986-04-06', '1987-04-05', '1988-03-27',\n",
        "             '1989-04-02', '1990-04-01', '1991-03-31', '1992-04-05',\n",
        "             '1993-04-04', '1994-04-10', '1995-04-09', '1996-03-31',\n",
        "             '1997-04-06', '1998-04-05', '1999-04-11', '2000-04-09',\n",
        "             '2001-04-08', '2002-04-07', '2003-04-06', '2004-04-04',\n",
        "             '2005-04-03', '2006-04-02', '2007-04-01', '2008-04-06',\n",
        "             '2009-04-05', '2010-04-11', '2011-04-03', '2012-04-01',\n",
        "             '2013-04-07', '2014-04-06', '2015-04-12', '2016-04-03',\n",
        "             '2017-04-02', '2018-04-07', '2019-04-07']\n",
        "\n",
        "race_date_5K = ['2006-04-01', '2007-03-31', '2008-04-05',\n",
        "             '2009-04-04', '2010-04-10', '2011-04-02', '2012-03-31',\n",
        "             '2013-04-06', '2014-04-05', '2015-04-11', '2016-04-02',\n",
        "             '2017-04-01', '2018-04-06', '2019-04-06']\n",
        "\n"
      ],
      "metadata": {
        "id": "aF4w1X7N5Scg"
      },
      "execution_count": null,
      "outputs": []
    },
    {
      "cell_type": "markdown",
      "source": [
        "In order to obtain weather data I sumbitted a data request from the National Oceanic and Atmospheric Administration (NOAA) and the National Centers for Environmental Information. The closest option to the marathon was the Washington Reagon Airport, Arlington, VA which is physically closer to the marathon location than the next available option which was the National Arboretum, DC. The Reagon airport is also situatuated on the banks of the Potomac across from the National Mall where most of the race takes place."
      ],
      "metadata": {
        "id": "WMNfV1N8HGTp"
      }
    },
    {
      "cell_type": "code",
      "source": [
        "# Upload a CSV file from your local hard drive\n",
        "upload = files.upload()\n",
        "\n",
        "# Read the uploaded CSV file into a DataFrame\n",
        "weather = pd.read_csv(io.StringIO(list(upload.values())[0].decode('utf-8')))"
      ],
      "metadata": {
        "colab": {
          "base_uri": "https://localhost:8080/",
          "height": 73
        },
        "id": "Dr0_B5wC7UtL",
        "outputId": "e0b65d2b-e665-4c1e-f7c5-62dbc0b5c791"
      },
      "execution_count": null,
      "outputs": [
        {
          "output_type": "display_data",
          "data": {
            "text/plain": [
              "<IPython.core.display.HTML object>"
            ],
            "text/html": [
              "\n",
              "     <input type=\"file\" id=\"files-67ec41f4-7b22-46c5-b967-00aed1e4fd22\" name=\"files[]\" multiple disabled\n",
              "        style=\"border:none\" />\n",
              "     <output id=\"result-67ec41f4-7b22-46c5-b967-00aed1e4fd22\">\n",
              "      Upload widget is only available when the cell has been executed in the\n",
              "      current browser session. Please rerun this cell to enable.\n",
              "      </output>\n",
              "      <script>// Copyright 2017 Google LLC\n",
              "//\n",
              "// Licensed under the Apache License, Version 2.0 (the \"License\");\n",
              "// you may not use this file except in compliance with the License.\n",
              "// You may obtain a copy of the License at\n",
              "//\n",
              "//      http://www.apache.org/licenses/LICENSE-2.0\n",
              "//\n",
              "// Unless required by applicable law or agreed to in writing, software\n",
              "// distributed under the License is distributed on an \"AS IS\" BASIS,\n",
              "// WITHOUT WARRANTIES OR CONDITIONS OF ANY KIND, either express or implied.\n",
              "// See the License for the specific language governing permissions and\n",
              "// limitations under the License.\n",
              "\n",
              "/**\n",
              " * @fileoverview Helpers for google.colab Python module.\n",
              " */\n",
              "(function(scope) {\n",
              "function span(text, styleAttributes = {}) {\n",
              "  const element = document.createElement('span');\n",
              "  element.textContent = text;\n",
              "  for (const key of Object.keys(styleAttributes)) {\n",
              "    element.style[key] = styleAttributes[key];\n",
              "  }\n",
              "  return element;\n",
              "}\n",
              "\n",
              "// Max number of bytes which will be uploaded at a time.\n",
              "const MAX_PAYLOAD_SIZE = 100 * 1024;\n",
              "\n",
              "function _uploadFiles(inputId, outputId) {\n",
              "  const steps = uploadFilesStep(inputId, outputId);\n",
              "  const outputElement = document.getElementById(outputId);\n",
              "  // Cache steps on the outputElement to make it available for the next call\n",
              "  // to uploadFilesContinue from Python.\n",
              "  outputElement.steps = steps;\n",
              "\n",
              "  return _uploadFilesContinue(outputId);\n",
              "}\n",
              "\n",
              "// This is roughly an async generator (not supported in the browser yet),\n",
              "// where there are multiple asynchronous steps and the Python side is going\n",
              "// to poll for completion of each step.\n",
              "// This uses a Promise to block the python side on completion of each step,\n",
              "// then passes the result of the previous step as the input to the next step.\n",
              "function _uploadFilesContinue(outputId) {\n",
              "  const outputElement = document.getElementById(outputId);\n",
              "  const steps = outputElement.steps;\n",
              "\n",
              "  const next = steps.next(outputElement.lastPromiseValue);\n",
              "  return Promise.resolve(next.value.promise).then((value) => {\n",
              "    // Cache the last promise value to make it available to the next\n",
              "    // step of the generator.\n",
              "    outputElement.lastPromiseValue = value;\n",
              "    return next.value.response;\n",
              "  });\n",
              "}\n",
              "\n",
              "/**\n",
              " * Generator function which is called between each async step of the upload\n",
              " * process.\n",
              " * @param {string} inputId Element ID of the input file picker element.\n",
              " * @param {string} outputId Element ID of the output display.\n",
              " * @return {!Iterable<!Object>} Iterable of next steps.\n",
              " */\n",
              "function* uploadFilesStep(inputId, outputId) {\n",
              "  const inputElement = document.getElementById(inputId);\n",
              "  inputElement.disabled = false;\n",
              "\n",
              "  const outputElement = document.getElementById(outputId);\n",
              "  outputElement.innerHTML = '';\n",
              "\n",
              "  const pickedPromise = new Promise((resolve) => {\n",
              "    inputElement.addEventListener('change', (e) => {\n",
              "      resolve(e.target.files);\n",
              "    });\n",
              "  });\n",
              "\n",
              "  const cancel = document.createElement('button');\n",
              "  inputElement.parentElement.appendChild(cancel);\n",
              "  cancel.textContent = 'Cancel upload';\n",
              "  const cancelPromise = new Promise((resolve) => {\n",
              "    cancel.onclick = () => {\n",
              "      resolve(null);\n",
              "    };\n",
              "  });\n",
              "\n",
              "  // Wait for the user to pick the files.\n",
              "  const files = yield {\n",
              "    promise: Promise.race([pickedPromise, cancelPromise]),\n",
              "    response: {\n",
              "      action: 'starting',\n",
              "    }\n",
              "  };\n",
              "\n",
              "  cancel.remove();\n",
              "\n",
              "  // Disable the input element since further picks are not allowed.\n",
              "  inputElement.disabled = true;\n",
              "\n",
              "  if (!files) {\n",
              "    return {\n",
              "      response: {\n",
              "        action: 'complete',\n",
              "      }\n",
              "    };\n",
              "  }\n",
              "\n",
              "  for (const file of files) {\n",
              "    const li = document.createElement('li');\n",
              "    li.append(span(file.name, {fontWeight: 'bold'}));\n",
              "    li.append(span(\n",
              "        `(${file.type || 'n/a'}) - ${file.size} bytes, ` +\n",
              "        `last modified: ${\n",
              "            file.lastModifiedDate ? file.lastModifiedDate.toLocaleDateString() :\n",
              "                                    'n/a'} - `));\n",
              "    const percent = span('0% done');\n",
              "    li.appendChild(percent);\n",
              "\n",
              "    outputElement.appendChild(li);\n",
              "\n",
              "    const fileDataPromise = new Promise((resolve) => {\n",
              "      const reader = new FileReader();\n",
              "      reader.onload = (e) => {\n",
              "        resolve(e.target.result);\n",
              "      };\n",
              "      reader.readAsArrayBuffer(file);\n",
              "    });\n",
              "    // Wait for the data to be ready.\n",
              "    let fileData = yield {\n",
              "      promise: fileDataPromise,\n",
              "      response: {\n",
              "        action: 'continue',\n",
              "      }\n",
              "    };\n",
              "\n",
              "    // Use a chunked sending to avoid message size limits. See b/62115660.\n",
              "    let position = 0;\n",
              "    do {\n",
              "      const length = Math.min(fileData.byteLength - position, MAX_PAYLOAD_SIZE);\n",
              "      const chunk = new Uint8Array(fileData, position, length);\n",
              "      position += length;\n",
              "\n",
              "      const base64 = btoa(String.fromCharCode.apply(null, chunk));\n",
              "      yield {\n",
              "        response: {\n",
              "          action: 'append',\n",
              "          file: file.name,\n",
              "          data: base64,\n",
              "        },\n",
              "      };\n",
              "\n",
              "      let percentDone = fileData.byteLength === 0 ?\n",
              "          100 :\n",
              "          Math.round((position / fileData.byteLength) * 100);\n",
              "      percent.textContent = `${percentDone}% done`;\n",
              "\n",
              "    } while (position < fileData.byteLength);\n",
              "  }\n",
              "\n",
              "  // All done.\n",
              "  yield {\n",
              "    response: {\n",
              "      action: 'complete',\n",
              "    }\n",
              "  };\n",
              "}\n",
              "\n",
              "scope.google = scope.google || {};\n",
              "scope.google.colab = scope.google.colab || {};\n",
              "scope.google.colab._files = {\n",
              "  _uploadFiles,\n",
              "  _uploadFilesContinue,\n",
              "};\n",
              "})(self);\n",
              "</script> "
            ]
          },
          "metadata": {}
        },
        {
          "output_type": "stream",
          "name": "stdout",
          "text": [
            "Saving NOAA_weather_1973_2020.csv to NOAA_weather_1973_2020.csv\n"
          ]
        }
      ]
    },
    {
      "cell_type": "code",
      "source": [
        "weather = weather[['DATE', 'PRCP', 'TMAX', 'TMIN']]\n",
        "\n",
        "weather.head(5)"
      ],
      "metadata": {
        "colab": {
          "base_uri": "https://localhost:8080/",
          "height": 206
        },
        "id": "CInz49GxJP15",
        "outputId": "526c36d8-3518-4ba5-92d0-c1646ea4b0e7"
      },
      "execution_count": null,
      "outputs": [
        {
          "output_type": "execute_result",
          "data": {
            "text/plain": [
              "         DATE  PRCP  TMAX  TMIN\n",
              "0  1973-01-01  0.00    64    46\n",
              "1  1973-01-02  0.00    48    32\n",
              "2  1973-01-03  0.18    40    29\n",
              "3  1973-01-04  0.29    49    35\n",
              "4  1973-01-05  0.00    47    38"
            ],
            "text/html": [
              "\n",
              "  <div id=\"df-60bdecb9-1e83-4dd1-95f2-2de4dff90b00\" class=\"colab-df-container\">\n",
              "    <div>\n",
              "<style scoped>\n",
              "    .dataframe tbody tr th:only-of-type {\n",
              "        vertical-align: middle;\n",
              "    }\n",
              "\n",
              "    .dataframe tbody tr th {\n",
              "        vertical-align: top;\n",
              "    }\n",
              "\n",
              "    .dataframe thead th {\n",
              "        text-align: right;\n",
              "    }\n",
              "</style>\n",
              "<table border=\"1\" class=\"dataframe\">\n",
              "  <thead>\n",
              "    <tr style=\"text-align: right;\">\n",
              "      <th></th>\n",
              "      <th>DATE</th>\n",
              "      <th>PRCP</th>\n",
              "      <th>TMAX</th>\n",
              "      <th>TMIN</th>\n",
              "    </tr>\n",
              "  </thead>\n",
              "  <tbody>\n",
              "    <tr>\n",
              "      <th>0</th>\n",
              "      <td>1973-01-01</td>\n",
              "      <td>0.00</td>\n",
              "      <td>64</td>\n",
              "      <td>46</td>\n",
              "    </tr>\n",
              "    <tr>\n",
              "      <th>1</th>\n",
              "      <td>1973-01-02</td>\n",
              "      <td>0.00</td>\n",
              "      <td>48</td>\n",
              "      <td>32</td>\n",
              "    </tr>\n",
              "    <tr>\n",
              "      <th>2</th>\n",
              "      <td>1973-01-03</td>\n",
              "      <td>0.18</td>\n",
              "      <td>40</td>\n",
              "      <td>29</td>\n",
              "    </tr>\n",
              "    <tr>\n",
              "      <th>3</th>\n",
              "      <td>1973-01-04</td>\n",
              "      <td>0.29</td>\n",
              "      <td>49</td>\n",
              "      <td>35</td>\n",
              "    </tr>\n",
              "    <tr>\n",
              "      <th>4</th>\n",
              "      <td>1973-01-05</td>\n",
              "      <td>0.00</td>\n",
              "      <td>47</td>\n",
              "      <td>38</td>\n",
              "    </tr>\n",
              "  </tbody>\n",
              "</table>\n",
              "</div>\n",
              "    <div class=\"colab-df-buttons\">\n",
              "\n",
              "  <div class=\"colab-df-container\">\n",
              "    <button class=\"colab-df-convert\" onclick=\"convertToInteractive('df-60bdecb9-1e83-4dd1-95f2-2de4dff90b00')\"\n",
              "            title=\"Convert this dataframe to an interactive table.\"\n",
              "            style=\"display:none;\">\n",
              "\n",
              "  <svg xmlns=\"http://www.w3.org/2000/svg\" height=\"24px\" viewBox=\"0 -960 960 960\">\n",
              "    <path d=\"M120-120v-720h720v720H120Zm60-500h600v-160H180v160Zm220 220h160v-160H400v160Zm0 220h160v-160H400v160ZM180-400h160v-160H180v160Zm440 0h160v-160H620v160ZM180-180h160v-160H180v160Zm440 0h160v-160H620v160Z\"/>\n",
              "  </svg>\n",
              "    </button>\n",
              "\n",
              "  <style>\n",
              "    .colab-df-container {\n",
              "      display:flex;\n",
              "      gap: 12px;\n",
              "    }\n",
              "\n",
              "    .colab-df-convert {\n",
              "      background-color: #E8F0FE;\n",
              "      border: none;\n",
              "      border-radius: 50%;\n",
              "      cursor: pointer;\n",
              "      display: none;\n",
              "      fill: #1967D2;\n",
              "      height: 32px;\n",
              "      padding: 0 0 0 0;\n",
              "      width: 32px;\n",
              "    }\n",
              "\n",
              "    .colab-df-convert:hover {\n",
              "      background-color: #E2EBFA;\n",
              "      box-shadow: 0px 1px 2px rgba(60, 64, 67, 0.3), 0px 1px 3px 1px rgba(60, 64, 67, 0.15);\n",
              "      fill: #174EA6;\n",
              "    }\n",
              "\n",
              "    .colab-df-buttons div {\n",
              "      margin-bottom: 4px;\n",
              "    }\n",
              "\n",
              "    [theme=dark] .colab-df-convert {\n",
              "      background-color: #3B4455;\n",
              "      fill: #D2E3FC;\n",
              "    }\n",
              "\n",
              "    [theme=dark] .colab-df-convert:hover {\n",
              "      background-color: #434B5C;\n",
              "      box-shadow: 0px 1px 3px 1px rgba(0, 0, 0, 0.15);\n",
              "      filter: drop-shadow(0px 1px 2px rgba(0, 0, 0, 0.3));\n",
              "      fill: #FFFFFF;\n",
              "    }\n",
              "  </style>\n",
              "\n",
              "    <script>\n",
              "      const buttonEl =\n",
              "        document.querySelector('#df-60bdecb9-1e83-4dd1-95f2-2de4dff90b00 button.colab-df-convert');\n",
              "      buttonEl.style.display =\n",
              "        google.colab.kernel.accessAllowed ? 'block' : 'none';\n",
              "\n",
              "      async function convertToInteractive(key) {\n",
              "        const element = document.querySelector('#df-60bdecb9-1e83-4dd1-95f2-2de4dff90b00');\n",
              "        const dataTable =\n",
              "          await google.colab.kernel.invokeFunction('convertToInteractive',\n",
              "                                                    [key], {});\n",
              "        if (!dataTable) return;\n",
              "\n",
              "        const docLinkHtml = 'Like what you see? Visit the ' +\n",
              "          '<a target=\"_blank\" href=https://colab.research.google.com/notebooks/data_table.ipynb>data table notebook</a>'\n",
              "          + ' to learn more about interactive tables.';\n",
              "        element.innerHTML = '';\n",
              "        dataTable['output_type'] = 'display_data';\n",
              "        await google.colab.output.renderOutput(dataTable, element);\n",
              "        const docLink = document.createElement('div');\n",
              "        docLink.innerHTML = docLinkHtml;\n",
              "        element.appendChild(docLink);\n",
              "      }\n",
              "    </script>\n",
              "  </div>\n",
              "\n",
              "\n",
              "<div id=\"df-d56fa83f-df2b-43a7-952e-cbbc0b01dbb7\">\n",
              "  <button class=\"colab-df-quickchart\" onclick=\"quickchart('df-d56fa83f-df2b-43a7-952e-cbbc0b01dbb7')\"\n",
              "            title=\"Suggest charts\"\n",
              "            style=\"display:none;\">\n",
              "\n",
              "<svg xmlns=\"http://www.w3.org/2000/svg\" height=\"24px\"viewBox=\"0 0 24 24\"\n",
              "     width=\"24px\">\n",
              "    <g>\n",
              "        <path d=\"M19 3H5c-1.1 0-2 .9-2 2v14c0 1.1.9 2 2 2h14c1.1 0 2-.9 2-2V5c0-1.1-.9-2-2-2zM9 17H7v-7h2v7zm4 0h-2V7h2v10zm4 0h-2v-4h2v4z\"/>\n",
              "    </g>\n",
              "</svg>\n",
              "  </button>\n",
              "\n",
              "<style>\n",
              "  .colab-df-quickchart {\n",
              "      --bg-color: #E8F0FE;\n",
              "      --fill-color: #1967D2;\n",
              "      --hover-bg-color: #E2EBFA;\n",
              "      --hover-fill-color: #174EA6;\n",
              "      --disabled-fill-color: #AAA;\n",
              "      --disabled-bg-color: #DDD;\n",
              "  }\n",
              "\n",
              "  [theme=dark] .colab-df-quickchart {\n",
              "      --bg-color: #3B4455;\n",
              "      --fill-color: #D2E3FC;\n",
              "      --hover-bg-color: #434B5C;\n",
              "      --hover-fill-color: #FFFFFF;\n",
              "      --disabled-bg-color: #3B4455;\n",
              "      --disabled-fill-color: #666;\n",
              "  }\n",
              "\n",
              "  .colab-df-quickchart {\n",
              "    background-color: var(--bg-color);\n",
              "    border: none;\n",
              "    border-radius: 50%;\n",
              "    cursor: pointer;\n",
              "    display: none;\n",
              "    fill: var(--fill-color);\n",
              "    height: 32px;\n",
              "    padding: 0;\n",
              "    width: 32px;\n",
              "  }\n",
              "\n",
              "  .colab-df-quickchart:hover {\n",
              "    background-color: var(--hover-bg-color);\n",
              "    box-shadow: 0 1px 2px rgba(60, 64, 67, 0.3), 0 1px 3px 1px rgba(60, 64, 67, 0.15);\n",
              "    fill: var(--button-hover-fill-color);\n",
              "  }\n",
              "\n",
              "  .colab-df-quickchart-complete:disabled,\n",
              "  .colab-df-quickchart-complete:disabled:hover {\n",
              "    background-color: var(--disabled-bg-color);\n",
              "    fill: var(--disabled-fill-color);\n",
              "    box-shadow: none;\n",
              "  }\n",
              "\n",
              "  .colab-df-spinner {\n",
              "    border: 2px solid var(--fill-color);\n",
              "    border-color: transparent;\n",
              "    border-bottom-color: var(--fill-color);\n",
              "    animation:\n",
              "      spin 1s steps(1) infinite;\n",
              "  }\n",
              "\n",
              "  @keyframes spin {\n",
              "    0% {\n",
              "      border-color: transparent;\n",
              "      border-bottom-color: var(--fill-color);\n",
              "      border-left-color: var(--fill-color);\n",
              "    }\n",
              "    20% {\n",
              "      border-color: transparent;\n",
              "      border-left-color: var(--fill-color);\n",
              "      border-top-color: var(--fill-color);\n",
              "    }\n",
              "    30% {\n",
              "      border-color: transparent;\n",
              "      border-left-color: var(--fill-color);\n",
              "      border-top-color: var(--fill-color);\n",
              "      border-right-color: var(--fill-color);\n",
              "    }\n",
              "    40% {\n",
              "      border-color: transparent;\n",
              "      border-right-color: var(--fill-color);\n",
              "      border-top-color: var(--fill-color);\n",
              "    }\n",
              "    60% {\n",
              "      border-color: transparent;\n",
              "      border-right-color: var(--fill-color);\n",
              "    }\n",
              "    80% {\n",
              "      border-color: transparent;\n",
              "      border-right-color: var(--fill-color);\n",
              "      border-bottom-color: var(--fill-color);\n",
              "    }\n",
              "    90% {\n",
              "      border-color: transparent;\n",
              "      border-bottom-color: var(--fill-color);\n",
              "    }\n",
              "  }\n",
              "</style>\n",
              "\n",
              "  <script>\n",
              "    async function quickchart(key) {\n",
              "      const quickchartButtonEl =\n",
              "        document.querySelector('#' + key + ' button');\n",
              "      quickchartButtonEl.disabled = true;  // To prevent multiple clicks.\n",
              "      quickchartButtonEl.classList.add('colab-df-spinner');\n",
              "      try {\n",
              "        const charts = await google.colab.kernel.invokeFunction(\n",
              "            'suggestCharts', [key], {});\n",
              "      } catch (error) {\n",
              "        console.error('Error during call to suggestCharts:', error);\n",
              "      }\n",
              "      quickchartButtonEl.classList.remove('colab-df-spinner');\n",
              "      quickchartButtonEl.classList.add('colab-df-quickchart-complete');\n",
              "    }\n",
              "    (() => {\n",
              "      let quickchartButtonEl =\n",
              "        document.querySelector('#df-d56fa83f-df2b-43a7-952e-cbbc0b01dbb7 button');\n",
              "      quickchartButtonEl.style.display =\n",
              "        google.colab.kernel.accessAllowed ? 'block' : 'none';\n",
              "    })();\n",
              "  </script>\n",
              "</div>\n",
              "    </div>\n",
              "  </div>\n"
            ]
          },
          "metadata": {},
          "execution_count": 7
        }
      ]
    },
    {
      "cell_type": "markdown",
      "source": [
        "Now we want to exctract only the first sunday in april from every year\n",
        "\n",
        "(must run following blocks in order as event_weather gets overwritten)"
      ],
      "metadata": {
        "id": "fM6QB6DWKQUi"
      }
    },
    {
      "cell_type": "markdown",
      "source": [
        "**Weather Codes present in data:**\n",
        "\n",
        "WT01 - Fog, ice fog, or freezing fog (may include heavy fog)\n",
        "\n",
        "WT02 - Heavy fog or heaving freezing fog (not always distinguished from fog)\n",
        "\n",
        "WT03 - Thunder\n",
        "\n",
        "WT05 - Hail (may include small hail)\n",
        "\n",
        "WT08 - Smoke or haze\n",
        "\n",
        "WT13 - Mist\n",
        "\n",
        "WT14 - Drizzle\n",
        "\n",
        "WT16 - Rain (may include freezing rain, drizzle, and freezing drizzle)\"\n",
        "\n",
        "WT18 - Snow, snow pellets, snow grains, or ice crystals\n",
        "\n",
        "**Weather codes Not in data:**\n",
        "\n",
        "WT04 - Ice pellets, sleet, snow pellets, or small hail\"\n",
        "\n",
        "WT06 - Glaze or rime\n",
        "\n",
        "WT07 - Dust, volcanic ash, blowing dust, blowing sand, or blowing obstruction\n",
        "\n",
        "WT09 - Blowing or drifting snow\n",
        "\n",
        "WT10 - Tornado, waterspout, or funnel cloud\"\n",
        "\n",
        "WT11 - High or damaging winds\n",
        "\n",
        "WT12 - Blowing spray\n",
        "\n",
        "WT15 - Freezing drizzle\n",
        "\n",
        "WT17 - Freezing rain\n",
        "\n",
        "WT19 - Unknown source of precipitation\n",
        "\n",
        "WV20 - Rain or snow shower\n",
        "\n",
        "WT21 - Ground fog\n",
        "\n",
        "WT22 - Ice fog or freezing fog"
      ],
      "metadata": {
        "id": "M4mBP9DpaeAh"
      }
    },
    {
      "cell_type": "code",
      "source": [
        "# convert race_date to a pandas Series for comparison\n",
        "race_date_series = pd.Series(race_date)\n",
        "race_date_series_5k = pd.Series(race_date_5K)\n",
        "\n",
        "# create a new DataFrame with rows from weather that match values in race_date\n",
        "event_weather = weather[weather['DATE'].isin(race_date_series)]\n",
        "event_weather_5K = weather[weather['DATE'].isin(race_date_series_5k)]\n",
        "\n",
        "print(event_weather.head(2))"
      ],
      "metadata": {
        "colab": {
          "base_uri": "https://localhost:8080/"
        },
        "id": "nASmP49UKYoi",
        "outputId": "2f5259dc-9c29-41fd-d005-29302b0c7d1d"
      },
      "execution_count": null,
      "outputs": [
        {
          "output_type": "stream",
          "name": "stdout",
          "text": [
            "           DATE  PRCP  TMAX  TMIN\n",
            "90   1973-04-01  0.50    67    55\n",
            "454  1974-03-31  0.01    53    40\n"
          ]
        }
      ]
    },
    {
      "cell_type": "markdown",
      "source": [],
      "metadata": {
        "id": "eKGWii85ay35"
      }
    },
    {
      "cell_type": "markdown",
      "source": [
        "It appears that most of the coded weather events present on event days like fog and mist, would not impact running times. Other weather conditions such as rain would be better explained by the quantatative value of precipitation. There are no snow events and only two hail or freezing related codes present. In 2008 \"Hail (may include small hail)\" was recorded along with rain and high precipitation. However the low temperature recorded was 46 degrees. In 1987 \"Snow, snow pellets, snow grains, or ice crystals\" was recorded, but there was no recorded snowfall and the low temperature was 35, so it appears to be minor incident of ice crystals on the ground. For our further analysis we will discard the weather codes and rely solely on temperature and precipitation the primary weather factors impacting running performance."
      ],
      "metadata": {
        "id": "tYgPULIek4GC"
      }
    },
    {
      "cell_type": "markdown",
      "source": [
        "TAVG (average temp was also dropped due to to many missing values.\n",
        "\n",
        "(inches and fahrenheit requested)\n",
        "from the NOAA documentation:\n",
        "\n",
        "PRCP = Precipitation (mm or inches as per user preference, inches to hundredths on Daily Form pdf file)\n",
        "TMAX = Maximum temperature (Fahrenheit or Celsius as per user preference, Fahrenheit to tenths on\n",
        "Daily Form pdf file\n",
        "TMIN = Minimum temperature (Fahrenheit or Celsius as per user preference, Fahrenheit to tenths on\n",
        "Daily Form pdf file"
      ],
      "metadata": {
        "id": "z6yO4JF5VD3-"
      }
    },
    {
      "cell_type": "code",
      "source": [
        "event_weather_join = event_weather.copy()\n",
        "#create date column that matches for the join key\n",
        "event_weather_join['Year'] = event_weather_join['DATE'].str[:4]\n",
        "event_weather_join['Year'] = event_weather_join['Year'].astype(int)\n",
        "\n",
        "event_weather_5K_join = event_weather_5K.copy()\n",
        "event_weather_5K_join['Year'] = event_weather_5K_join['DATE'].str[:4]\n",
        "event_weather_5K_join['Year'] = event_weather_5K_join['Year'].astype(int)\n"
      ],
      "metadata": {
        "id": "WSOO_jgI0Cai"
      },
      "execution_count": null,
      "outputs": []
    },
    {
      "cell_type": "markdown",
      "source": [
        "outer join by year to link all weather data to the cherry blossom data\n",
        "\n",
        "(this overwrites the df so running it multiple times infinetly accumulates new cols)"
      ],
      "metadata": {
        "id": "M2MT_NzJS6Az"
      }
    },
    {
      "cell_type": "code",
      "source": [
        "df_10M_weather = pd.merge(df_10M, event_weather_join, on='Year', how='outer')\n",
        "\n",
        "df_5K_weather = pd.merge(df_5K, event_weather_5K_join, on='Year', how='outer')"
      ],
      "metadata": {
        "id": "rPP6iZNdM0bP"
      },
      "execution_count": null,
      "outputs": []
    },
    {
      "cell_type": "code",
      "source": [
        "df = pd.concat([df_10M_weather, df_5K_weather], ignore_index=True)"
      ],
      "metadata": {
        "id": "Gq4cvQUfLw5U"
      },
      "execution_count": null,
      "outputs": []
    },
    {
      "cell_type": "code",
      "source": [
        "df.to_csv(\"cb_weather2.csv\", index=False)\n",
        "files.download(\"cb_weather2.csv\")"
      ],
      "metadata": {
        "colab": {
          "base_uri": "https://localhost:8080/",
          "height": 17
        },
        "id": "P8jk5mcznzKm",
        "outputId": "6950b554-100a-4a44-f793-b0d90a979139"
      },
      "execution_count": null,
      "outputs": [
        {
          "output_type": "display_data",
          "data": {
            "text/plain": [
              "<IPython.core.display.Javascript object>"
            ],
            "application/javascript": [
              "\n",
              "    async function download(id, filename, size) {\n",
              "      if (!google.colab.kernel.accessAllowed) {\n",
              "        return;\n",
              "      }\n",
              "      const div = document.createElement('div');\n",
              "      const label = document.createElement('label');\n",
              "      label.textContent = `Downloading \"${filename}\": `;\n",
              "      div.appendChild(label);\n",
              "      const progress = document.createElement('progress');\n",
              "      progress.max = size;\n",
              "      div.appendChild(progress);\n",
              "      document.body.appendChild(div);\n",
              "\n",
              "      const buffers = [];\n",
              "      let downloaded = 0;\n",
              "\n",
              "      const channel = await google.colab.kernel.comms.open(id);\n",
              "      // Send a message to notify the kernel that we're ready.\n",
              "      channel.send({})\n",
              "\n",
              "      for await (const message of channel.messages) {\n",
              "        // Send a message to notify the kernel that we're ready.\n",
              "        channel.send({})\n",
              "        if (message.buffers) {\n",
              "          for (const buffer of message.buffers) {\n",
              "            buffers.push(buffer);\n",
              "            downloaded += buffer.byteLength;\n",
              "            progress.value = downloaded;\n",
              "          }\n",
              "        }\n",
              "      }\n",
              "      const blob = new Blob(buffers, {type: 'application/binary'});\n",
              "      const a = document.createElement('a');\n",
              "      a.href = window.URL.createObjectURL(blob);\n",
              "      a.download = filename;\n",
              "      div.appendChild(a);\n",
              "      a.click();\n",
              "      div.remove();\n",
              "    }\n",
              "  "
            ]
          },
          "metadata": {}
        },
        {
          "output_type": "display_data",
          "data": {
            "text/plain": [
              "<IPython.core.display.Javascript object>"
            ],
            "application/javascript": [
              "download(\"download_1460952e-860e-457f-8b08-c7b5dfc43128\", \"cb_weather2.csv\", 41455587)"
            ]
          },
          "metadata": {}
        }
      ]
    }
  ]
}